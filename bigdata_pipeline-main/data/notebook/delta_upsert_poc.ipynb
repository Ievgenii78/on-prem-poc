{
 "cells": [
  {
   "cell_type": "code",
   "execution_count": 1,
   "id": "5eb9325f-fb7a-4496-aecc-14b00bba9437",
   "metadata": {
    "tags": []
   },
   "outputs": [
    {
     "name": "stdout",
     "output_type": "stream",
     "text": [
      "Collecting delta-spark\n",
      "  Downloading delta_spark-2.2.0-py3-none-any.whl (20 kB)\n",
      "Requirement already satisfied: importlib-metadata>=1.0.0 in /opt/conda/lib/python3.10/site-packages (from delta-spark) (6.0.0)\n",
      "Requirement already satisfied: pyspark<3.4.0,>=3.3.0 in /usr/local/spark-3.3.1-bin-hadoop3/python (from delta-spark) (3.3.1)\n",
      "Requirement already satisfied: zipp>=0.5 in /opt/conda/lib/python3.10/site-packages (from importlib-metadata>=1.0.0->delta-spark) (3.12.1)\n",
      "Collecting py4j==0.10.9.5\n",
      "  Downloading py4j-0.10.9.5-py2.py3-none-any.whl (199 kB)\n",
      "\u001b[2K     \u001b[90m━━━━━━━━━━━━━━━━━━━━━━━━━━━━━━━━━━━━━━━\u001b[0m \u001b[32m199.7/199.7 kB\u001b[0m \u001b[31m1.8 MB/s\u001b[0m eta \u001b[36m0:00:00\u001b[0ma \u001b[36m0:00:01\u001b[0m\n",
      "\u001b[?25hInstalling collected packages: py4j, delta-spark\n",
      "Successfully installed delta-spark-2.2.0 py4j-0.10.9.5\n"
     ]
    }
   ],
   "source": [
    "!pip install delta-spark"
   ]
  },
  {
   "cell_type": "code",
   "execution_count": 2,
   "id": "95b477da-2ed6-4fae-8673-2cbf18503251",
   "metadata": {
    "tags": []
   },
   "outputs": [],
   "source": [
    "from pyspark.sql import SparkSession\n",
    "from delta.tables import DeltaTable"
   ]
  },
  {
   "cell_type": "code",
   "execution_count": 3,
   "id": "4f349ae9-d223-40c9-97db-4f02f3769a06",
   "metadata": {
    "tags": []
   },
   "outputs": [],
   "source": [
    "spark_depenedencies_jars = [\n",
    "    \"org.apache.hadoop:hadoop-common:3.3.1\",\n",
    "    \"org.apache.hadoop:hadoop-client:3.3.1\",\n",
    "    \"org.apache.hadoop:hadoop-aws:3.3.1\",\n",
    "    \"org.apache.spark:spark-sql-kafka-0-10_2.12:3.3.1\",\n",
    "    \"org.apache.spark:spark-streaming-kafka-0-10_2.12:3.3.1\",\n",
    "    \"io.delta:delta-core_2.12:2.2.0\"\n",
    "]\n",
    "spark_depenedencies_jars_str = \",\".join(spark_depenedencies_jars)"
   ]
  },
  {
   "cell_type": "code",
   "execution_count": 4,
   "id": "5ee828cc-10d7-4df1-b4d8-a67265be3d9a",
   "metadata": {
    "tags": []
   },
   "outputs": [],
   "source": [
    "SPARK_MASTER = \"spark://spark-master:7077\"\n",
    "SPARK_MASTER_LOCAL = \"local\"\n",
    "HIVE_METASTORE_URI_LOCAL = \"thrift://localhost:9083\"\n",
    "HIVE_METASTORE_URI = \"thrift://hive-metastore:9083\""
   ]
  },
  {
   "cell_type": "code",
   "execution_count": 5,
   "id": "5272c795-46fe-4d6c-9a46-5d664c52d344",
   "metadata": {
    "tags": []
   },
   "outputs": [],
   "source": [
    "aws_access_key = \"minio\"\n",
    "aws_secret_key = \"minio123\"\n",
    "aws_endpoint = \"http://minio:9000\""
   ]
  },
  {
   "cell_type": "code",
   "execution_count": 6,
   "id": "246773b1-2c3b-47e4-a207-31acdb333556",
   "metadata": {
    "tags": []
   },
   "outputs": [],
   "source": [
    "spark = SparkSession.builder \\\n",
    "        .appName(\"Delta Upsert POC\") \\\n",
    "        .master(SPARK_MASTER_LOCAL) \\\n",
    "        .config(\"spark.hadoop.fs.s3a.access.key\", aws_access_key) \\\n",
    "        .config(\"spark.hadoop.fs.s3a.secret.key\", aws_secret_key) \\\n",
    "        .config(\"spark.hadoop.fs.s3a.endpoint\", aws_endpoint) \\\n",
    "        .config(\"spark.hadoop.fs.s3a.path.style.access\", \"true\") \\\n",
    "        .config(\"spark.hadoop.fs.s3a.impl\", \"org.apache.hadoop.fs.s3a.S3AFileSystem\") \\\n",
    "        .config(\"spark.sql.extensions\", \"io.delta.sql.DeltaSparkSessionExtension\") \\\n",
    "        .config(\"spark.sql.catalog.spark_catalog\", \"org.apache.spark.sql.delta.catalog.DeltaCatalog\") \\\n",
    "        .config(\"spark.databricks.delta.retentionDurationCheck.enabled\", \"false\") \\\n",
    "        .config(\"spark.hadoop.hive.metastore.uris\", HIVE_METASTORE_URI) \\\n",
    "        .config(\"spark.sql.catalogImplementation\", \"hive\") \\\n",
    "        .config(\"spark.jars.packages\", spark_depenedencies_jars_str) \\\n",
    "        .enableHiveSupport() \\\n",
    "        .getOrCreate()"
   ]
  },
  {
   "cell_type": "code",
   "execution_count": 7,
   "id": "eda62233-9e7c-44ea-8d14-03e3019ef630",
   "metadata": {
    "tags": []
   },
   "outputs": [],
   "source": [
    "BASE_DELTA_DIR_S3 = \"s3a://warehouse/delta/inventory/\""
   ]
  },
  {
   "cell_type": "code",
   "execution_count": 8,
   "id": "363617fb-f32f-4909-8463-4cb8919b244b",
   "metadata": {
    "tags": []
   },
   "outputs": [],
   "source": [
    "customers_delta_dir = BASE_DELTA_DIR_S3 + \"customers\"\n",
    "orders_delta_dir = BASE_DELTA_DIR_S3 + \"orders\"\n",
    "products_delta_dir = BASE_DELTA_DIR_S3 + \"products\""
   ]
  },
  {
   "cell_type": "code",
   "execution_count": 9,
   "id": "9195a314-9124-4936-8f3e-023efbcd09fc",
   "metadata": {
    "tags": []
   },
   "outputs": [],
   "source": [
    "old_customers_table = DeltaTable.forPath(spark, customers_delta_dir).toDF()\n",
    "old_orders_table = DeltaTable.forPath(spark, orders_delta_dir).toDF()\n",
    "old_products_table = DeltaTable.forPath(spark, products_delta_dir).toDF()\n",
    "\n",
    "new_customers_table = DeltaTable.forPath(spark, customers_delta_dir)\n",
    "new_orders_table = DeltaTable.forPath(spark, orders_delta_dir)\n",
    "new_products_table = DeltaTable.forPath(spark, products_delta_dir)"
   ]
  },
  {
   "cell_type": "code",
   "execution_count": 12,
   "id": "f45da8d1-5084-4d70-b9e8-5d1aede79130",
   "metadata": {
    "tags": []
   },
   "outputs": [],
   "source": [
    "new_customers_table.alias('new_customers').merge(old_customers_table.alias('old_customers'), \"old_customers.id = new_customers.id and new_customers.curr_timestamp < old_customers.curr_timestamp\").whenMatchedDelete().execute()\n",
    "new_orders_table.alias('new_orders').merge(old_orders_table.alias('old_orders'), \"old_orders.order_number = new_orders.order_number and new_orders.curr_timestamp < old_orders.curr_timestamp\").whenMatchedDelete().execute()\n",
    "new_products_table.alias('new_products').merge(old_products_table.alias('old_products'), \"old_products.id = new_products.id and new_products.curr_timestamp < old_products.curr_timestamp\").whenMatchedDelete().execute()"
   ]
  },
  {
   "cell_type": "code",
   "execution_count": 13,
   "id": "3a0d86f7-083b-47fd-bcde-5369b3f470a5",
   "metadata": {
    "tags": []
   },
   "outputs": [],
   "source": [
    "customer_csv_location = \"s3a://data/new_customers.csv\""
   ]
  },
  {
   "cell_type": "code",
   "execution_count": 14,
   "id": "4d010201-948f-4c4f-ae44-4e14f77382c8",
   "metadata": {
    "tags": []
   },
   "outputs": [],
   "source": [
    "new_customers_csv = spark.read.format(\"com.databricks.spark.csv\") \\\n",
    "                               .option(\"header\", \"true\") \\\n",
    "                               .option(\"inferSchema\", \"true\") \\\n",
    "                               .option(\"delimiter\", \",\") \\\n",
    "                               .option(\"mode\", \"DROPMALFORMED\") \\\n",
    "                               .load(customer_csv_location)"
   ]
  },
  {
   "cell_type": "code",
   "execution_count": 16,
   "id": "d1f6a6e7-4cc3-412a-ad04-0974ca4d21e8",
   "metadata": {
    "tags": []
   },
   "outputs": [
    {
     "name": "stdout",
     "output_type": "stream",
     "text": [
      "+----+----------+---------+-------------------------+---+-----------------------+\n",
      "|id  |first_name|last_name|email                    |op |curr_timestamp         |\n",
      "+----+----------+---------+-------------------------+---+-----------------------+\n",
      "|1006|Eugene    |Goldberg |eugene.goldberg@gmail.com|c  |2023-02-12 07:12:27.566|\n",
      "|1005|Rahul     |Sahoo    |rahulsahoo1999@gmail.com |u  |2025-02-12 07:13:27.566|\n",
      "+----+----------+---------+-------------------------+---+-----------------------+\n",
      "\n"
     ]
    }
   ],
   "source": [
    "new_customers_csv.show(truncate=False)"
   ]
  },
  {
   "cell_type": "code",
   "execution_count": 17,
   "id": "0cb6040d-cc66-42bf-8d64-76a820b4f239",
   "metadata": {
    "tags": []
   },
   "outputs": [],
   "source": [
    "new_customers_table.alias('customers').merge(new_customers_csv.alias('customers_csv'), \"customers_csv.id = customers.id and customers.curr_timestamp < customers_csv.curr_timestamp\").whenMatchedUpdateAll().whenNotMatchedInsertAll().execute()"
   ]
  },
  {
   "cell_type": "code",
   "execution_count": null,
   "id": "8336924c-8709-43c1-bc26-e3491eefb3d7",
   "metadata": {},
   "outputs": [],
   "source": []
  }
 ],
 "metadata": {
  "kernelspec": {
   "display_name": "Python 3 (ipykernel)",
   "language": "python",
   "name": "python3"
  },
  "language_info": {
   "codemirror_mode": {
    "name": "ipython",
    "version": 3
   },
   "file_extension": ".py",
   "mimetype": "text/x-python",
   "name": "python",
   "nbconvert_exporter": "python",
   "pygments_lexer": "ipython3",
   "version": "3.10.9"
  }
 },
 "nbformat": 4,
 "nbformat_minor": 5
}
