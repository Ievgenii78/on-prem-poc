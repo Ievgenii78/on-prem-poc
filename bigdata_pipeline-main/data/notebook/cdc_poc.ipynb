{
 "cells": [
  {
   "cell_type": "code",
   "execution_count": 1,
   "id": "868985e4-cd51-4c70-ae62-d04b9cfc14e2",
   "metadata": {
    "tags": []
   },
   "outputs": [],
   "source": [
    "from pyspark.sql import SparkSession\n",
    "from pyspark.sql.functions import *\n",
    "from pyspark.sql.functions import current_timestamp\n",
    "from pyspark.sql.types import StructType, StructField, StringType, IntegerType, BooleanType, DoubleType, LongType"
   ]
  },
  {
   "cell_type": "code",
   "execution_count": 2,
   "id": "f86437b1-5a92-4675-90dc-fc14f7b8afd4",
   "metadata": {
    "tags": []
   },
   "outputs": [],
   "source": [
    "spark_depenedencies_jars = [\n",
    "    \"org.apache.hadoop:hadoop-common:3.3.1\",\n",
    "    \"org.apache.hadoop:hadoop-client:3.3.1\",\n",
    "    \"org.apache.hadoop:hadoop-aws:3.3.1\",\n",
    "    \"org.apache.spark:spark-sql-kafka-0-10_2.12:3.3.1\",\n",
    "    \"org.apache.spark:spark-streaming-kafka-0-10_2.12:3.3.1\",\n",
    "    \"io.delta:delta-core_2.12:2.2.0\"\n",
    "]\n",
    "spark_depenedencies_jars_str = \",\".join(spark_depenedencies_jars)"
   ]
  },
  {
   "cell_type": "code",
   "execution_count": 3,
   "id": "b4117041-876b-4baa-af36-5975f6b1601b",
   "metadata": {
    "tags": []
   },
   "outputs": [],
   "source": [
    "SPARK_MASTER = \"spark://spark-master:7077\"\n",
    "SPARK_MASTER_LOCAL = \"local\"\n",
    "HIVE_METASTORE_URI_LOCAL = \"thrift://localhost:9083\"\n",
    "HIVE_METASTORE_URI = \"thrift://hive-metastore:9083\""
   ]
  },
  {
   "cell_type": "code",
   "execution_count": 4,
   "id": "858c3d4f-1736-4b32-b3df-cbee5eb97916",
   "metadata": {
    "tags": []
   },
   "outputs": [],
   "source": [
    "KAFKA_BOOTSTRAP_SERVERS = \"kafka:9092\"\n",
    "BASE_CHECKPOINT_LOCATION = \"s3a://warehouse/checkpoint/\"\n",
    "BASE_DELTA_DIR = \"/home/jovyan/work/delta\"\n",
    "BASE_DELTA_DIR_S3 = \"s3a://warehouse/delta/inventory/\""
   ]
  },
  {
   "cell_type": "code",
   "execution_count": 5,
   "id": "e1181eb6",
   "metadata": {
    "tags": []
   },
   "outputs": [],
   "source": [
    "aws_access_key = \"minio\"\n",
    "aws_secret_key = \"minio123\"\n",
    "aws_endpoint = \"http://minio:9000\""
   ]
  },
  {
   "cell_type": "code",
   "execution_count": 6,
   "id": "e9f35980-6bc6-4b1f-bf14-930fcb66a5dc",
   "metadata": {
    "tags": []
   },
   "outputs": [],
   "source": [
    "spark = SparkSession.builder \\\n",
    "        .appName(\"Kafka Streaming Example\") \\\n",
    "        .master(SPARK_MASTER_LOCAL) \\\n",
    "        .config(\"spark.hadoop.fs.s3a.access.key\", aws_access_key) \\\n",
    "        .config(\"spark.hadoop.fs.s3a.secret.key\", aws_secret_key) \\\n",
    "        .config(\"spark.hadoop.fs.s3a.endpoint\", aws_endpoint) \\\n",
    "        .config(\"spark.hadoop.fs.s3a.path.style.access\", \"true\") \\\n",
    "        .config(\"spark.hadoop.fs.s3a.impl\", \"org.apache.hadoop.fs.s3a.S3AFileSystem\") \\\n",
    "        .config(\"spark.sql.extensions\", \"io.delta.sql.DeltaSparkSessionExtension\") \\\n",
    "        .config(\"spark.sql.catalog.spark_catalog\", \"org.apache.spark.sql.delta.catalog.DeltaCatalog\") \\\n",
    "        .config(\"spark.databricks.delta.retentionDurationCheck.enabled\", \"false\") \\\n",
    "        .config(\"spark.hadoop.hive.metastore.uris\", HIVE_METASTORE_URI) \\\n",
    "        .config(\"spark.sql.catalogImplementation\", \"hive\") \\\n",
    "        .config(\"spark.jars.packages\", spark_depenedencies_jars_str) \\\n",
    "        .enableHiveSupport() \\\n",
    "        .getOrCreate()"
   ]
  },
  {
   "cell_type": "code",
   "execution_count": 7,
   "id": "cd089823-d194-43d0-bcda-736c3dc61e6e",
   "metadata": {
    "tags": []
   },
   "outputs": [],
   "source": [
    "def read_kafka_stream(kafka_topic, schema):\n",
    "    kafka_stream = spark \\\n",
    "                .readStream \\\n",
    "                .format(\"kafka\") \\\n",
    "                .option(\"kafka.bootstrap.servers\", KAFKA_BOOTSTRAP_SERVERS) \\\n",
    "                .option(\"subscribe\", kafka_topic) \\\n",
    "                .option(\"failOnDataLoss\",\"false\") \\\n",
    "                .option(\"startingOffsets\", \"earliest\") \\\n",
    "                .load()\n",
    "    data_stream = kafka_stream.selectExpr(\"cast (value as string) as json\") \\\n",
    "                            .select(from_json(\"json\", schema).alias(\"cdc\")) \\\n",
    "                            .select(\"cdc.payload.after.*\", \"cdc.payload.op\")\n",
    "    data_stream = data_stream.withColumn(\"curr_timestamp\", current_timestamp())\n",
    "    return data_stream"
   ]
  },
  {
   "cell_type": "code",
   "execution_count": 8,
   "id": "a2e9d0f4-37d0-4c5e-ab0a-f1f834ce3f46",
   "metadata": {
    "tags": []
   },
   "outputs": [],
   "source": [
    "def console_print_stream(data_stream):\n",
    "    console_stream = data_stream \\\n",
    "                .writeStream \\\n",
    "                .trigger(processingTime=\"5 seconds\") \\\n",
    "                .outputMode(\"update\") \\\n",
    "                .option(\"truncate\", \"false\")\\\n",
    "                .format(\"console\") \\\n",
    "                .start()\n",
    "    return console_stream"
   ]
  },
  {
   "cell_type": "code",
   "execution_count": 9,
   "id": "9feb9152-0cbd-4142-bf87-fe5967b43e1c",
   "metadata": {
    "tags": []
   },
   "outputs": [],
   "source": [
    "def write_delta_table(data_stream, checkpoint_location, delta_dir):\n",
    "    data_stream.writeStream \\\n",
    "                .format(\"delta\") \\\n",
    "                .outputMode(\"append\") \\\n",
    "                .option(\"checkpointLocation\", checkpoint_location) \\\n",
    "                .start(delta_dir)"
   ]
  },
  {
   "cell_type": "code",
   "execution_count": 10,
   "id": "2727a2c7-0510-4ced-b5c6-4c277584b42f",
   "metadata": {
    "tags": []
   },
   "outputs": [],
   "source": [
    "customers_table_schema = StructType([\n",
    "    StructField(\"id\", IntegerType(), True),\n",
    "    StructField(\"first_name\", StringType(), True),\n",
    "    StructField(\"last_name\", StringType(), True),\n",
    "    StructField(\"email\", StringType(), True),\n",
    "])\n",
    "\n",
    "orders_table_schema = StructType([\n",
    "    StructField(\"order_number\", IntegerType(), True),\n",
    "    StructField(\"order_date\", IntegerType(), True),\n",
    "    StructField(\"purchaser\", IntegerType(), True),\n",
    "    StructField(\"quantity\", IntegerType(), True),\n",
    "    StructField(\"product_id\", IntegerType(), True),\n",
    "])\n",
    "\n",
    "products_table_schema = StructType([\n",
    "    StructField(\"id\", IntegerType(), True),\n",
    "    StructField(\"name\", StringType(), True),\n",
    "    StructField(\"description\", StringType(), True),\n",
    "    StructField(\"weight\", DoubleType(), True),\n",
    "])\n",
    "\n",
    "source_schema = StructType([\n",
    "    StructField(\"version\", StringType(), False),\n",
    "    StructField(\"connector\", StringType(), False),\n",
    "    StructField(\"name\", StringType(), False),\n",
    "    StructField(\"ts_ms\", LongType(), False),\n",
    "    StructField(\"snapshot\", StringType(), True),\n",
    "    StructField(\"db\", StringType(), False),\n",
    "    StructField(\"sequence\", StringType(), True),\n",
    "    StructField(\"table\", StringType(), True),\n",
    "    StructField(\"server_id\", LongType(), False),\n",
    "    StructField(\"gtid\", StringType(), True),\n",
    "    StructField(\"file\", StringType(), False),\n",
    "    StructField(\"pos\", LongType(), False),\n",
    "    StructField(\"row\", IntegerType(), False),\n",
    "    StructField(\"thread\", LongType(), True),\n",
    "    StructField(\"query\", StringType(), True),\n",
    "])\n",
    "\n",
    "transaction_schema = StructType([\n",
    "    StructField(\"id\", StringType(), False),\n",
    "    StructField(\"total_order\", LongType(), False),\n",
    "    StructField(\"data_collection_order\", LongType(), False),\n",
    "])\n",
    "\n",
    "customers_payload_schema = StructType([\n",
    "    StructField(\"before\", customers_table_schema, True),\n",
    "    StructField(\"after\", customers_table_schema, True),\n",
    "    StructField(\"source\", source_schema, True),\n",
    "    StructField(\"op\", StringType(), False),\n",
    "    StructField(\"ts_ms\", LongType(), True),\n",
    "    StructField(\"transaction\", transaction_schema, True),\n",
    "])\n",
    "\n",
    "orders_payload_schema = StructType([\n",
    "    StructField(\"before\", orders_table_schema, True),\n",
    "    StructField(\"after\", orders_table_schema, True),\n",
    "    StructField(\"source\", source_schema, True),\n",
    "    StructField(\"op\", StringType(), False),\n",
    "    StructField(\"ts_ms\", LongType(), True),\n",
    "    StructField(\"transaction\", transaction_schema, True),\n",
    "])\n",
    "\n",
    "products_payload_schema = StructType([\n",
    "    StructField(\"before\", products_table_schema, True),\n",
    "    StructField(\"after\", products_table_schema, True),\n",
    "    StructField(\"source\", source_schema, True),\n",
    "    StructField(\"op\", StringType(), False),\n",
    "    StructField(\"ts_ms\", LongType(), True),\n",
    "    StructField(\"transaction\", transaction_schema, True),\n",
    "])\n",
    "\n",
    "customers_schema = StructType([\n",
    "      StructField(\"schema\",StringType(),True),\n",
    "      StructField(\"payload\",customers_payload_schema,True),\n",
    "])\n",
    "\n",
    "orders_schema = StructType([\n",
    "      StructField(\"schema\",StringType(),True),\n",
    "      StructField(\"payload\",orders_payload_schema,True),\n",
    "])\n",
    "\n",
    "products_schema = StructType([\n",
    "      StructField(\"schema\",StringType(),True),\n",
    "      StructField(\"payload\",products_payload_schema,True),\n",
    "])"
   ]
  },
  {
   "cell_type": "code",
   "execution_count": 11,
   "id": "51c327aa-e879-46d5-b880-21f8261e7c2e",
   "metadata": {
    "tags": []
   },
   "outputs": [],
   "source": [
    "kafka_customers_topic = \"dbserver1.inventory.customers\"\n",
    "kafka_orders_topic = \"dbserver1.inventory.orders\"\n",
    "kafka_products_topic = \"dbserver1.inventory.products\""
   ]
  },
  {
   "cell_type": "code",
   "execution_count": 12,
   "id": "5e45ada4-6f80-4025-9c11-55b923336056",
   "metadata": {
    "tags": []
   },
   "outputs": [],
   "source": [
    "customers_checkpoint_location = BASE_CHECKPOINT_LOCATION + \"customers\"\n",
    "orders_checkpoint_location = BASE_CHECKPOINT_LOCATION + \"orders\"\n",
    "products_checkpoint_location = BASE_CHECKPOINT_LOCATION + \"products\""
   ]
  },
  {
   "cell_type": "code",
   "execution_count": 13,
   "id": "17d84e40-9d00-45c7-bab5-0a16163adf4e",
   "metadata": {
    "tags": []
   },
   "outputs": [],
   "source": [
    "customers_delta_dir = BASE_DELTA_DIR_S3 + \"customers\"\n",
    "orders_delta_dir = BASE_DELTA_DIR_S3 + \"orders\"\n",
    "products_delta_dir = BASE_DELTA_DIR_S3 + \"products\""
   ]
  },
  {
   "cell_type": "code",
   "execution_count": 14,
   "id": "db7c3942-d3f1-4dfc-a44e-ee96ca9540cb",
   "metadata": {
    "tags": []
   },
   "outputs": [],
   "source": [
    "customers_stream = read_kafka_stream(kafka_customers_topic, customers_schema)\n",
    "orders_stream = read_kafka_stream(kafka_orders_topic, orders_schema)\n",
    "products_stream = read_kafka_stream(kafka_products_topic, products_schema)"
   ]
  },
  {
   "cell_type": "code",
   "execution_count": 15,
   "id": "80385ab2-9db9-4fc2-b258-cf4904a2eb18",
   "metadata": {
    "tags": []
   },
   "outputs": [],
   "source": [
    "customers_console_stream = console_print_stream(customers_stream)\n",
    "orders_console_stream = console_print_stream(orders_stream)\n",
    "products_console_stream = console_print_stream(products_stream)"
   ]
  },
  {
   "cell_type": "code",
   "execution_count": 16,
   "id": "5ff77497-032a-4c23-8ef5-c6581c9e6d9b",
   "metadata": {
    "tags": []
   },
   "outputs": [],
   "source": [
    "write_delta_table(customers_stream, customers_checkpoint_location, customers_delta_dir)\n",
    "write_delta_table(orders_stream, orders_checkpoint_location, orders_delta_dir)\n",
    "write_delta_table(products_stream, products_checkpoint_location, products_delta_dir)"
   ]
  },
  {
   "cell_type": "code",
   "execution_count": null,
   "id": "ff3ca5ba-9c6d-4ad0-8462-81285dd0da87",
   "metadata": {},
   "outputs": [],
   "source": [
    "spark.streams.awaitTermination()"
   ]
  }
 ],
 "metadata": {
  "kernelspec": {
   "display_name": "Python 3 (ipykernel)",
   "language": "python",
   "name": "python3"
  },
  "language_info": {
   "codemirror_mode": {
    "name": "ipython",
    "version": 3
   },
   "file_extension": ".py",
   "mimetype": "text/x-python",
   "name": "python",
   "nbconvert_exporter": "python",
   "pygments_lexer": "ipython3",
   "version": "3.10.9"
  },
  "vscode": {
   "interpreter": {
    "hash": "b7a3a872943c1ee3759eec244f972824e6bdd38e4677d88a6ec22b6487d1a7ed"
   }
  }
 },
 "nbformat": 4,
 "nbformat_minor": 5
}
